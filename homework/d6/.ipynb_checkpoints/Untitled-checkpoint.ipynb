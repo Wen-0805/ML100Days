{
 "cells": [
  {
   "cell_type": "code",
   "execution_count": 23,
   "metadata": {},
   "outputs": [
    {
     "name": "stdout",
     "output_type": "stream",
     "text": [
      "[('以', 'p'), ('結巴', 'n'), ('進行', 'v'), ('斷詞', 'n')]\n"
     ]
    }
   ],
   "source": [
    "import jieba\n",
    "import jieba.posseg as pseg\n",
    "\n",
    "jieba.set_dictionary('./dict.txt.big')\n",
    "\n",
    "input_str = \"以結巴進行斷詞\"\n",
    "cut_words = pseg.cut(input_str)\n",
    "words = [(word, flag) for (word, flag) in cut_words]\n",
    "print(words)"
   ]
  }
 ],
 "metadata": {
  "kernelspec": {
   "display_name": "ML20",
   "language": "python",
   "name": "ml20"
  },
  "language_info": {
   "codemirror_mode": {
    "name": "ipython",
    "version": 3
   },
   "file_extension": ".py",
   "mimetype": "text/x-python",
   "name": "python",
   "nbconvert_exporter": "python",
   "pygments_lexer": "ipython3",
   "version": "3.6.8"
  }
 },
 "nbformat": 4,
 "nbformat_minor": 4
}
