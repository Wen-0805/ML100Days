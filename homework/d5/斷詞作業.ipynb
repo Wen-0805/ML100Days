{
 "cells": [
  {
   "cell_type": "markdown",
   "metadata": {
    "colab_type": "text",
    "id": "nRxkACwPzPyV"
   },
   "source": [
    "## 作業目標: 了解斷詞演算法的背後計算"
   ]
  },
  {
   "cell_type": "markdown",
   "metadata": {
    "colab_type": "text",
    "id": "l-ybaNZizPyW"
   },
   "source": [
    "### 根據課程講述的內容, 請計算出下列剩餘所有情況的\n",
    "若有一個人連續觀察到三天水草都是乾燥的(Dry), 則這三天的天氣機率為何？(可參考講義第13頁)\n",
    "(Hint: 共有6種可能機率)\n",
    "\n",
    "```python\n",
    "states = ('sunny', 'rainy')\n",
    "observations = ('dry', 'damp', 'soggy')\n",
    "start_probability = {'sunny': 0.4, 'rainy': 0.6}\n",
    "transition_probability = {'sunny':{'sunny':0.6, 'rainy':0.4},\n",
    "                          'rainy': {'sunny':0.3, 'rainy':0.7}}\n",
    "emission_probatility = {'sunny': {'dry':0.6, 'damp':0.3, 'soggy':0.1},\n",
    "                        'rainy': {'dry':0.1, 'damp':0.4, 'soggy':0.5}}\n",
    "```"
   ]
  },
  {
   "cell_type": "markdown",
   "metadata": {
    "colab_type": "text",
    "id": "99u8GShpzPyX"
   },
   "source": [
    "```\n",
    "觀察狀態 = 'dry', 'dry', 'dry'\n",
    "Sunny, Sunny, Sunny: 0.4*(0.6)*0.6*(0.6)*0.6*(0.6) = 0.031104\n",
    "Rainy, Sunny, Sunny: 0.6*(0.1)*0.3*(0.6)*0.6*(0.6) = 0.003888\n",
    "SSS\n",
    "RSS\n",
    "\n",
    "\n",
    "RRS: 0.6*(0.1)*0.7*0.1*0.3*0.6     = 0.000755\n",
    "RSR: 0.6*(0.1)*0.3*0.6*0.4*0.1     = 0.000432\n",
    "RRR: 0.6*(0.1)*0.7*0.1*0.7*0.1     = 0.000294\n",
    "\n",
    "SRR: 0.4*(0.6)*0.4*0.1*0.7*0.1     = 0.000672\n",
    "SRS: 0.4*(0.6)*0.4*0.1*0.3*0.6     = 0.001728\n",
    "SSR: 0.4*0.6*0.6*0.6*0.4*0.1       = 0.003456\n",
    "\n",
    "\n",
    "start_p * trans_p * trans_p * emit_p * trans_p * emit_p \n",
    "\n",
    "最大機率為: Sunny, Sunny, Sunny\n",
    "```"
   ]
  },
  {
   "cell_type": "markdown",
   "metadata": {
    "colab_type": "text",
    "id": "_-avrSj5zPyX"
   },
   "source": [
    "### 根據上述條件, 寫出Viterbi應用程式"
   ]
  },
  {
   "cell_type": "code",
   "execution_count": 26,
   "metadata": {
    "colab": {},
    "colab_type": "code",
    "id": "miP0aWWezPyY"
   },
   "outputs": [],
   "source": [
    "observations = ('dry', 'dry', 'dry') #實際上觀察到的狀態為dry, dry, dry\n",
    "states = ('sunny', 'rainy')\n",
    "start_probability = {'sunny': 0.4, 'rainy': 0.6}\n",
    "transition_probability = {'sunny':{'sunny':0.6, 'rainy':0.4},\n",
    "                          'rainy': {'sunny':0.3, 'rainy':0.7}}\n",
    "emission_probatility = {'sunny': {'dry':0.6, 'damp':0.3, 'soggy':0.1},\n",
    "                        'rainy': {'dry':0.1, 'damp':0.4, 'soggy':0.5}}\n",
    "\n",
    "\n",
    "# SSR: 0.4*0.6*0.6*0.6*0.4*0.1       = 0.003456\n",
    "# start_p * trans_p * trans_p * emit_p * trans_p * emit_p "
   ]
  },
  {
   "cell_type": "code",
   "execution_count": 44,
   "metadata": {
    "colab": {},
    "colab_type": "code",
    "id": "OXinHu-8zPyc"
   },
   "outputs": [],
   "source": [
    "def viterbi(obs, states, start_p, trans_p, emit_p):\n",
    "    V = [{}]\n",
    "    path = {}\n",
    "\n",
    "    # Initialize base cases (t == 0)\n",
    "    for y in states:\n",
    "        V[0][y] = start_p[y] * emit_p[y][obs[0]]\n",
    "#       V = [{'sunny': 0.xx, 'rainy': 0.xx}, {..}]\n",
    "        path[y] = [y]\n",
    "#       path = {'sunny': 'sunny'}\n",
    "\n",
    "\n",
    "    # Run Viterbi for t > 0    \n",
    "    for t in range(1,len(obs)):\n",
    "        newpath = {}\n",
    "        V += [{}]\n",
    "        \n",
    "        for current in states:\n",
    "            (prob, state) = max([(V[t-1][last_state] * trans_p[last_state][current] * emit_p[current][obs[t]], last_state) for last_state in states])\n",
    "            V[t][current] = prob\n",
    "            newpath[current] = path[state] + [current]\n",
    "            \n",
    "        # Don't need to remember the old paths\n",
    "        path = newpath\n",
    "#       path = {'sunny': [state0, state_1, state_2], 'rainy': [_, _, _]}\n",
    "#       print(path)\n",
    "    \n",
    "    (prob, state) = max([(V[len(obs) - 1][final_state], final_state) for final_state in states])\n",
    "    return (prob, path[state])"
   ]
  },
  {
   "cell_type": "code",
   "execution_count": 45,
   "metadata": {
    "colab": {},
    "colab_type": "code",
    "id": "NmvSEK3-zPyf"
   },
   "outputs": [],
   "source": [
    "result = viterbi(observations,\n",
    "                 states,\n",
    "                 start_probability,\n",
    "                 transition_probability,\n",
    "                 emission_probatility)"
   ]
  },
  {
   "cell_type": "code",
   "execution_count": 46,
   "metadata": {
    "colab": {},
    "colab_type": "code",
    "id": "4kEr3Kb5zPyi",
    "outputId": "0141a92f-bd4c-436c-da58-e35ad87a5bf2"
   },
   "outputs": [
    {
     "data": {
      "text/plain": [
       "(0.031103999999999993, ['sunny', 'sunny', 'sunny'])"
      ]
     },
     "execution_count": 46,
     "metadata": {},
     "output_type": "execute_result"
    }
   ],
   "source": [
    "result"
   ]
  },
  {
   "cell_type": "code",
   "execution_count": null,
   "metadata": {},
   "outputs": [],
   "source": []
  }
 ],
 "metadata": {
  "colab": {
   "name": "斷詞作業.ipynb",
   "provenance": []
  },
  "kernelspec": {
   "display_name": "ML20",
   "language": "python",
   "name": "ml20"
  },
  "language_info": {
   "codemirror_mode": {
    "name": "ipython",
    "version": 3
   },
   "file_extension": ".py",
   "mimetype": "text/x-python",
   "name": "python",
   "nbconvert_exporter": "python",
   "pygments_lexer": "ipython3",
   "version": "3.6.8"
  }
 },
 "nbformat": 4,
 "nbformat_minor": 1
}
